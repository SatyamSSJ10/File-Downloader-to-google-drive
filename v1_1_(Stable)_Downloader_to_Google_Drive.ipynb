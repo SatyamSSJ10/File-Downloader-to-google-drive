{
  "nbformat": 4,
  "nbformat_minor": 0,
  "metadata": {
    "colab": {
      "name": "v1.1 (Stable) Downloader to Google Drive.ipynb",
      "provenance": [],
      "collapsed_sections": [],
      "mount_file_id": "1f5_9c9GamoGaeHPwOP9k8Q94C-kKdxq0",
      "authorship_tag": "ABX9TyPM6mklzWKyspTExCbZj/L+",
      "include_colab_link": true
    },
    "kernelspec": {
      "name": "python3",
      "display_name": "Python 3"
    },
    "language_info": {
      "name": "python"
    }
  },
  "cells": [
    {
      "cell_type": "markdown",
      "metadata": {
        "id": "view-in-github",
        "colab_type": "text"
      },
      "source": [
        "<a href=\"https://colab.research.google.com/github/SatyamSSJ10/File-Downloader-to-google-drive/blob/main/v1_1_(Stable)_Downloader_to_Google_Drive.ipynb\" target=\"_parent\"><img src=\"https://colab.research.google.com/assets/colab-badge.svg\" alt=\"Open In Colab\"/></a>"
      ]
    },
    {
      "cell_type": "markdown",
      "metadata": {
        "id": "OB060193HlM1"
      },
      "source": [
        "Download files directly from internet to your Google Drive"
      ]
    },
    {
      "cell_type": "markdown",
      "metadata": {
        "id": "QcJUrRAuHuDc"
      },
      "source": [
        "<Note: This workflow is still in beta so can't gaurantee 100% results also there are still things which needs to be added (a better GUI, Torrent Downloader)>\n",
        "\n",
        "**READ THIS**\n",
        "```\n",
        "# Double Click on Each cell and put the link in the area after that Arrow on the left-side of each cell is used to run the script, Click on it and run the script \n",
        "```\n",
        "\n",
        "\n",
        "**Instructions-**\n",
        "1. First thing you may do is- File > Save a copy in Drive. It will save the file in \"Colab Notebooks\", a yellow folder in your Google Drive. By doing this, you will be able to save the edits on the file, don't have to re-enter your preferred settings again.\n",
        "2. You first have to link your Google drive. for that run the first cell **#Link your Google Drive** after that enter the authentication code\n",
        "3. you can either copy a repo from git or directly download a file from internet (note that you have to put directly download url)\n",
        "\"The file download method isn't tested yet\"\n",
        "4. If you want to Extract the .zip extension from the downloaded to your drive **#Direct File download and Zip extraction**. It'll download the files in folder \"Zip_download\" and the extracted file will be in \"Zip\" folder inside it\n",
        "\n",
        "\n",
        "---\n",
        "\n",
        "Troubleshooting guide -\n",
        "1. `ERROR:root:Internal Python error in the inspect module.` Restart the runtime. Runtime>Restart Runtime \n",
        "or `Ctrl+M`\n",
        "2. It'll automatically create the \"Zip\" folder for extraction, If not Please create this folder inside \"Zip_download\"\n",
        "3. Note it may probably make a \"Zip\" folder in your root directory so please check that folder too if your extracted files are not present inside \"/Zip_download/Zip\"\n",
        "\n",
        "\n",
        "---\n",
        "\n",
        "\n",
        "Created by Satyam_SSJ10#7387 due to his laziness"
      ]
    },
    {
      "cell_type": "code",
      "metadata": {
        "id": "PRtU5F7HEuhR"
      },
      "source": [
        "#@title [0]Link your Google Drive\n",
        "\n",
        "from google.colab import drive\n",
        "drive.mount('/content/drive', force_remount=True)"
      ],
      "execution_count": null,
      "outputs": []
    },
    {
      "cell_type": "code",
      "metadata": {
        "id": "w0EIfFJWXkTc"
      },
      "source": [
        "#@title [1] Run this code if you want a longer run time (Optional but recommended)</font>\n",
        "#@markdown This cell runs a JS code that automatically reconnects you to avoid inactivity due to idle.\n",
        "\n",
        "import IPython\n",
        "from IPython.display import clear_output\n",
        "from google.colab import output\n",
        "\n",
        "display(IPython.display.Javascript('''\n",
        " function connectRefresher() {\n",
        "       window.ConnectButtonIntervalId = setInterval(function ConnectButton(){\n",
        "                console.log(\"connected\"); \n",
        "                document.querySelector(\"#top-toolbar > colab-connect-button\").shadowRoot.querySelector(\"#connect\").click();\n",
        "                document.querySelector(\"colab-sessions-dialog\").shadowRoot.querySelector(\"#footer > div > paper-button\").click();\n",
        "                console.log(\"closed the dialog!!\"); \n",
        "            },60000);\n",
        "    }\n",
        "    \n",
        " function clearRefresher() { \n",
        "           console.log(\"clear Interval called !!\");\n",
        "           clearInterval(window.ConnectButtonIntervalId);\n",
        "    }\n",
        "\n",
        " connectRefresher(); //to connect the refresher\n",
        " clearRefresher(); //to disconnect the refresher\n",
        "'''))\n",
        "\n",
        "clear_output()"
      ],
      "execution_count": null,
      "outputs": []
    },
    {
      "cell_type": "code",
      "metadata": {
        "id": "pLza-cSZEv5v"
      },
      "source": [
        "# @title [2] Download from Git\n",
        "\n",
        "%cd /content/drive/MyDrive \n",
        "\n",
        "#put your link after \"!git clone\"\n",
        "# @markdown put your link after \"!git clone\"\n",
        "\n",
        "#@markdown **example** !git clone https://github.com/SatyamSSJ10/File-Downloader-to-google-drive\n",
        "!git clone \"YOUR-GITHUB-REPO-LINK\" \n",
        "#EXAMPLE !git clone https://github.com/SatyamSSJ10/File-Downloader-to-google-drive"
      ],
      "execution_count": null,
      "outputs": []
    },
    {
      "cell_type": "code",
      "metadata": {
        "id": "U67cKD9rGxw7"
      },
      "source": [
        "#@title [3]Direct File download\n",
        "#@markdown the files needs to be of some kind of extension or something similar, you get it right? e.x. .exe .zip .apk etc. put your link after \"!wget\". the link should be https://\n",
        "\n",
        "#@markdown **example** !wget https://github.com/nihui/waifu2x-ncnn-vulkan/releases/download/20210210/waifu2x-ncnn-vulkan-20210210-ubuntu.zip\n",
        "%cd /content/drive/MyDrive\n",
        "!wget \"PASTE-YOUR-HTTPS-LINK-HERE\"\n",
        "#example !wget https://github.com/nihui/waifu2x-ncnn-vulkan/releases/download/20210210/waifu2x-ncnn-vulkan-20210210-ubuntu.zip"
      ],
      "execution_count": null,
      "outputs": []
    },
    {
      "cell_type": "code",
      "metadata": {
        "id": "Durfw0S7I_5w"
      },
      "source": [
        "#@title [4]Direct File download and Zip extraction\n",
        "#@markdown Use this if you want to download a zip file and extract it on the same google drive. It'll download the files in folder \"Zip_download\" and the extracted file will be in \"Zip\" folder inside it.\n",
        "%cd /content/drive/MyDrive\n",
        "%mkdir Zip_download\n",
        "%cd /content/drive/MyDrive/Zip_download\n",
        "!wget \"PASTE-YOUR-ZIP-HTTPS-LINK-HERE\"\n",
        "!unzip *.zip -d ExtractedZip\n",
        "%mv /content/drive/MyDrive/Zip_download/*/* /content/drive/MyDrive/Zip_download/ExtractedZip/\n",
        "#example !wget https://github.com/SatyamSSJ10/File-Downloader-to-google-drive/releases/download/1.1/v1_1_.Stable._Downloader_to_Google_Drive.ipynb\n",
        "#@markdown **example** !wget https://github.com/SatyamSSJ10/File-Downloader-to-google-drive/releases/download/1.1/v1_1_.Stable._Downloader_to_Google_Drive.ipynb"
      ],
      "execution_count": null,
      "outputs": []
    }
  ]
}